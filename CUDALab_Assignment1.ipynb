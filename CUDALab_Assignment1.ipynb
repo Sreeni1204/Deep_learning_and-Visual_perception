{
  "nbformat": 4,
  "nbformat_minor": 0,
  "metadata": {
    "kernelspec": {
      "display_name": "Python 3",
      "language": "python",
      "name": "python3"
    },
    "language_info": {
      "codemirror_mode": {
        "name": "ipython",
        "version": 3
      },
      "file_extension": ".py",
      "mimetype": "text/x-python",
      "name": "python",
      "nbconvert_exporter": "python",
      "pygments_lexer": "ipython3",
      "version": "3.6.10"
    },
    "colab": {
      "name": "CUDALab_Assignment1.ipynb",
      "provenance": [],
      "collapsed_sections": []
    },
    "accelerator": "GPU"
  },
  "cells": [
    {
      "cell_type": "markdown",
      "metadata": {
        "id": "wDcFshJAMXFF"
      },
      "source": [
        "# Assignment 1\n",
        "\n"
      ]
    },
    {
      "cell_type": "markdown",
      "metadata": {
        "id": "wVIRPtR1MXFF"
      },
      "source": [
        "- Set Jupyter running in your home account so that you can use it remotely (Optional due to Covid-19!)\n",
        "- Build **2 layer** network for Handwritten Digit Classification using pure python/numpy  (without the layers from PyTorch)\n",
        "    - Input data **x** : 20 x 784 (20 is the batch size, 784 = 28 x 28))\n",
        "    - Hidden size 64\n",
        "    - label **y** : 20 x 10\n",
        "    - Weight Variable **W** with random initialization (e.g., Uniform[-0.5,0.5])\n",
        "    - Bias variable **b** with zeros (no bias)\n",
        "    - Sigmoid nonlinearity\n",
        "    - Use softmax activation => (**W** . **x** + **b**)\n",
        "    - Use OneHot encoding and MSE loss! Not the best way for classification but just for practice \n",
        "    - Train the model on MNIST through gradient descent\n",
        "    - PS: If you dont know how to start see this:\n",
        "     - http://iamtrask.github.io/2015/07/12/basic-python-network/\n",
        "     - http://neuralnetworksanddeeplearning.com/chap1.html\n",
        "     - https://towardsdatascience.com/derivative-of-the-sigmoid-function-536880cf918e\n",
        "     - https://aimatters.wordpress.com/2019/06/17/the-softmax-function-derivative/\n",
        "- Submit your Jupyter Notebook (.ipynb) and an HTML export to villar@ais.uni-bonn.de with subject: **CudaLab: Assignment1**"
      ]
    },
    {
      "cell_type": "markdown",
      "metadata": {
        "id": "z5WywRxRMXE-"
      },
      "source": [
        "# THE MNIST DATABASE"
      ]
    },
    {
      "cell_type": "code",
      "metadata": {
        "id": "fCnTKDUiMXE-"
      },
      "source": [
        "import torch\n",
        "import torch.nn as nn\n",
        "import torchvision.transforms as transforms\n",
        "import torchvision.datasets as dsets\n",
        "import numpy as np\n",
        "import matplotlib.pyplot as plt\n",
        "import matplotlib\n",
        "from sklearn.metrics import classification_report, confusion_matrix\n",
        "%matplotlib inline"
      ],
      "execution_count": null,
      "outputs": []
    },
    {
      "cell_type": "code",
      "metadata": {
        "id": "kLPchGFkMXFD"
      },
      "source": [
        "train_dataset= dsets.MNIST(root='./data',train=True,transform=transforms.ToTensor(),download=True)\n",
        "test_dataset= dsets.MNIST(root='./data',train=False,transform=transforms.ToTensor(),download=True)"
      ],
      "execution_count": null,
      "outputs": []
    },
    {
      "cell_type": "code",
      "metadata": {
        "id": "X-5TebekMXFD",
        "colab": {
          "base_uri": "https://localhost:8080/",
          "height": 283
        },
        "outputId": "38842d06-3005-40b4-cf4e-f8aaa4136580"
      },
      "source": [
        "img = train_dataset[5999][0].numpy().reshape(28,28)\n",
        "plt.imshow(img,cmap='gray')"
      ],
      "execution_count": null,
      "outputs": [
        {
          "output_type": "execute_result",
          "data": {
            "text/plain": [
              "<matplotlib.image.AxesImage at 0x7f300284b550>"
            ]
          },
          "metadata": {
            "tags": []
          },
          "execution_count": 52
        },
        {
          "output_type": "display_data",
          "data": {
            "image/png": "[encoded data removed]",
            "text/plain": [
              "<Figure size 432x288 with 1 Axes>"
            ]
          },
          "metadata": {
            "tags": [],
            "needs_background": "light"
          }
        }
      ]
    },
    {
      "cell_type": "code",
      "metadata": {
        "id": "7e2hTjnSkurz"
      },
      "source": [
        "class neural_network(object):\n",
        "  '''Two layer neural network, with softmax activation function'''\n",
        "\n",
        "  def sigmoid(self, z):\n",
        "    return (1/(1+np.exp(-z)))\n",
        "\n",
        "  def prime_sigmoid(self, z):\n",
        "    return (self.sigmoid(z)*(1-self.sigmoid(z)))\n",
        "\n",
        "  def softmax(self, z):\n",
        "    return (np.exp(z)/np.sum(np.exp(z), axis=0))\n",
        "\n",
        "  def MSE(self, y, y_hat):\n",
        "    self.loss = (np.square(y - y_hat)).mean()\n",
        "    return self.loss\n",
        "\n",
        "  def Forward_pass(self, X, parameters):\n",
        "\n",
        "    self.forward_pass = {}\n",
        "    self.forward_pass[\"Z1\"] = np.matmul(parameters[\"W1\"], X) + parameters[\"b1\"]\n",
        "    self.forward_pass[\"A1\"] = self.sigmoid(self.forward_pass[\"Z1\"])\n",
        "    self.forward_pass[\"Z2\"] = np.matmul(parameters[\"W2\"], self.forward_pass[\"A1\"]) + parameters[\"b2\"]\n",
        "    self.forward_pass[\"A2\"] = self.softmax(self.forward_pass[\"Z2\"])\n",
        "\n",
        "    return self.forward_pass\n",
        "\n",
        "  def Backward_pass(self, X, Y, parameters, fp, bs):\n",
        "\n",
        "    self.gradients = {}\n",
        "\n",
        "    self.dZ2 = fp[\"A2\"] - Y\n",
        "    self.dW2 = (1/bs)*(np.matmul(self.dZ2, fp[\"A1\"].T))\n",
        "    self.dB2 = (1/bs)*(np.sum(self.dZ2))\n",
        "\n",
        "    self.dA1 = np.matmul(parameters[\"W2\"].T, self.dZ2)\n",
        "    self.dZ1 = self.dA1 * self.prime_sigmoid(fp[\"Z1\"])\n",
        "    self.dW1 = (1/bs)*(np.matmul(self.dZ1, X.T))\n",
        "    self.dB1 = (1/bs)*(np.sum(self.dZ1))\n",
        "\n",
        "    self.gradients[\"dW1\"] = self.dW1\n",
        "    self.gradients[\"dB1\"] = self.dB1\n",
        "    self.gradients[\"dW2\"] = self.dW2\n",
        "    self.gradients[\"dB2\"] = self.dB2\n",
        "\n",
        "    return self.gradients  "
      ],
      "execution_count": null,
      "outputs": []
    },
    {
      "cell_type": "code",
      "metadata": {
        "id": "2fkSEx0chd7f"
      },
      "source": [
        "def one_hot_encoding(n, labels):\n",
        "  '''One hot encoding function for target labels'''\n",
        "\n",
        "  number_of_examples = labels.shape[0]\n",
        "  labels = labels.reshape(1, number_of_examples)\n",
        "  labels = np.eye(n)[labels.astype('int32')]\n",
        "  labels = labels.reshape(number_of_examples, n)\n",
        "\n",
        "  return labels"
      ],
      "execution_count": null,
      "outputs": []
    },
    {
      "cell_type": "code",
      "metadata": {
        "id": "JINNKOeV3wYn"
      },
      "source": [
        "Number_of_training_samples = 60000\n",
        "Number_of_testing_samples = 10000\n",
        "number_of_digits = 10"
      ],
      "execution_count": null,
      "outputs": []
    },
    {
      "cell_type": "code",
      "metadata": {
        "id": "bgCO8Kn5QfTq",
        "colab": {
          "base_uri": "https://localhost:8080/"
        },
        "outputId": "a23cf6b1-e590-4d76-b3ca-dc41fe35228f"
      },
      "source": [
        "#dataset loader for accessing as numpy arrays\n",
        "train_data_loader = torch.utils.data.DataLoader(train_dataset, batch_size=Number_of_training_samples, shuffle=True)\n",
        "test_data_loader = torch.utils.data.DataLoader(test_dataset, batch_size=Number_of_testing_samples, shuffle=True)\n",
        "#iterating over loader for obtaining the images and their labels\n",
        "train_images, train_labels = next(iter(train_data_loader))\n",
        "test_images, test_labels = next(iter(test_data_loader))\n",
        "print(train_images.shape)\n",
        "print(train_labels.shape)\n",
        "#Flattening the images\n",
        "train_images = train_images.reshape(Number_of_training_samples, 28*28).numpy()\n",
        "train_labels = train_labels.numpy()\n",
        "test_images = test_images.reshape(Number_of_testing_samples, 28*28).numpy()\n",
        "test_labels = test_labels.numpy()\n",
        "\n",
        "#One hot encoding for the target labels\n",
        "train_labels = one_hot_encoding(number_of_digits, train_labels) \n",
        "test_labels = one_hot_encoding(number_of_digits, test_labels)\n",
        "print(train_labels.shape)\n",
        "print(test_labels.shape)\n",
        "\n",
        "\n",
        "#shuffeling the input data for better learning\n",
        "np.random.seed(138)\n",
        "\n",
        "shuffle_index = np.random.permutation(Number_of_training_samples)\n",
        "train_images = train_images[shuffle_index,:].T\n",
        "train_labels = train_labels[shuffle_index,:].T\n",
        "test_images = test_images.T\n",
        "test_labels = test_labels.T"
      ],
      "execution_count": null,
      "outputs": [
        {
          "output_type": "stream",
          "text": [
            "torch.Size([60000, 1, 28, 28])\n",
            "torch.Size([60000])\n",
            "(60000, 10)\n",
            "(10000, 10)\n"
          ],
          "name": "stdout"
        }
      ]
    },
    {
      "cell_type": "code",
      "metadata": {
        "id": "MAAhhwTndVIw",
        "colab": {
          "base_uri": "https://localhost:8080/",
          "height": 283
        },
        "outputId": "c6d8a1c8-a060-425b-d39f-e2b30855297d"
      },
      "source": [
        "#Example visualization\n",
        "i = 17\n",
        "plt.imshow(train_images[:,i].reshape(28,28), cmap=matplotlib.cm.binary)\n",
        "plt.axis(\"on\")\n",
        "plt.show()\n",
        "train_labels[:,i]"
      ],
      "execution_count": null,
      "outputs": [
        {
          "output_type": "display_data",
          "data": {
            "image/png": "[encoded data removed]",
            "text/plain": [
              "<Figure size 432x288 with 1 Axes>"
            ]
          },
          "metadata": {
            "tags": [],
            "needs_background": "light"
          }
        },
        {
          "output_type": "execute_result",
          "data": {
            "text/plain": [
              "array([0., 0., 0., 1., 0., 0., 0., 0., 0., 0.])"
            ]
          },
          "metadata": {
            "tags": []
          },
          "execution_count": 57
        }
      ]
    },
    {
      "cell_type": "code",
      "metadata": {
        "id": "zjC5iehyOocC"
      },
      "source": [
        "class train_pred_nw(object):\n",
        "\n",
        "    def __init__(self,\n",
        "                 No_of_training_samples,\n",
        "                 input_neurons,\n",
        "                 hidden_neurons=64,\n",
        "                 learning_rate=0.01,\n",
        "                 batch_size=20,\n",
        "                 epochs=100,\n",
        "                 output_count=10):\n",
        "\n",
        "        self.input_neurons = input_neurons\n",
        "        self.hidden_neurons = hidden_neurons\n",
        "        self.learning_rate = learning_rate\n",
        "        self.batch_size = batch_size\n",
        "        self.epochs = epochs\n",
        "        self.training_loss = 0\n",
        "        self.validation_loss = 0\n",
        "        self.No_of_training_samples = No_of_training_samples\n",
        "        self.epoch_list = list()\n",
        "        self.training_loss_list = list()\n",
        "        self.validation_loss_list = list()\n",
        "        self.number_of_batches = self.No_of_training_samples // self.batch_size\n",
        "        self.output_count = output_count\n",
        "\n",
        "        self.W1 = np.random.randn(self.hidden_neurons, self.input_neurons) * np.sqrt(1/self.input_neurons)\n",
        "        self.b1 = np.zeros((self.hidden_neurons, 1)) * np.sqrt(1/self.input_neurons)\n",
        "        self.W2 = np.random.randn(self.output_count, self.hidden_neurons) * np.sqrt(1/hidden_neurons)\n",
        "        self.b2 = np.zeros((self.output_count, 1)) * np.sqrt(1/self.hidden_neurons)\n",
        "\n",
        "        self.parameters = {\"W1\":self.W1, \"b1\":self.b1, \"W2\":self.W2, \"b2\":self.b2}\n",
        "\n",
        "        # self.network = neural_network()\n",
        "\n",
        "    def train(self, train_image, train_label, test_image, test_label):\n",
        "\n",
        "        for i in range(self.epochs):\n",
        "            shuffle = np.random.permutation(train_image.shape[1])\n",
        "            train_images_shuffle = train_image[:, shuffle]\n",
        "            train_labels_shuffle = train_label[:, shuffle]\n",
        "\n",
        "            for j in range(self.number_of_batches):\n",
        "                start = j * self.batch_size\n",
        "                end = min(start+self.batch_size, train_image.shape[1]-1)\n",
        "\n",
        "                X = train_images_shuffle[:, start:end]\n",
        "                Y = train_labels_shuffle[:, start:end]\n",
        "\n",
        "                size_of_batch = end - start\n",
        "\n",
        "                forward_pass = neural_network().Forward_pass(X, self.parameters)\n",
        "                backword_pass = neural_network().Backward_pass(X, Y, self.parameters, forward_pass, size_of_batch)\n",
        "\n",
        "                self.parameters[\"W1\"] = self.parameters[\"W1\"] - self.learning_rate * backword_pass[\"dW1\"]\n",
        "                self.parameters[\"b1\"] = self.parameters[\"b1\"] - self.learning_rate * backword_pass[\"dB1\"]\n",
        "                self.parameters[\"W2\"] = self.parameters[\"W2\"] - self.learning_rate * backword_pass[\"dW2\"]\n",
        "                self.parameters[\"b2\"] = self.parameters[\"b2\"] - self.learning_rate * backword_pass[\"dB2\"]\n",
        "\n",
        "            forward_pass = neural_network().Forward_pass(train_image, self.parameters)\n",
        "            self.training_loss = neural_network().MSE(train_label, forward_pass[\"A2\"])\n",
        "            val = neural_network().Forward_pass(test_image, self.parameters)\n",
        "            self.validation_loss = neural_network().MSE(test_label, val[\"A2\"])\n",
        "\n",
        "            if (i%10 == 0):\n",
        "                print(\"Epoch {}: training_loss = {}, testing_loss = {}\".format(i+1 ,self.training_loss, self.validation_loss))\n",
        "\n",
        "            self.epoch_list.append(i)\n",
        "            self.training_loss_list.append(self.training_loss)\n",
        "            self.validation_loss_list.append(self.validation_loss)\n",
        "\n",
        "        return self.epoch_list, self.training_loss_list, self.validation_loss_list, self.parameters\n",
        "\n",
        "    def prediction(self, test_image, test_label, params):\n",
        "\n",
        "        feed_forward = neural_network().Forward_pass(test_image, params)\n",
        "        predictions = np.argmax(feed_forward[\"A2\"], axis=0)\n",
        "        labels = np.argmax(test_label, axis=0)\n",
        "\n",
        "        return predictions, labels"
      ],
      "execution_count": null,
      "outputs": []
    },
    {
      "cell_type": "code",
      "metadata": {
        "colab": {
          "base_uri": "https://localhost:8080/"
        },
        "id": "r0T-1F4xZawF",
        "outputId": "bcec40ca-9844-4682-fb58-031c05cc3e80"
      },
      "source": [
        "model = train_pred_nw(Number_of_training_samples,\n",
        "                      train_images.shape[0],\n",
        "                      hidden_neurons=64,\n",
        "                      learning_rate=0.01,\n",
        "                      batch_size=20,\n",
        "                      epochs=100,\n",
        "                      output_count=10)\n",
        "\n",
        "epoch_list, training_loss_list, testing_loss_list, params = model.train(train_images,\n",
        "                                                                        train_labels,\n",
        "                                                                        test_images,\n",
        "                                                                        test_labels)\n",
        "\n",
        "predictions, labels = model.prediction(test_images,\n",
        "                                       test_labels,\n",
        "                                       params)"
      ],
      "execution_count": null,
      "outputs": [
        {
          "output_type": "stream",
          "text": [
            "Epoch 1: training_loss = 0.03587983567593385, testing_loss = 0.034970258989501575\n",
            "Epoch 11: training_loss = 0.012116733812036993, testing_loss = 0.011713102690635765\n",
            "Epoch 21: training_loss = 0.009527571626044869, testing_loss = 0.009482954492851008\n",
            "Epoch 31: training_loss = 0.007908112124727262, testing_loss = 0.008065721686434713\n",
            "Epoch 41: training_loss = 0.006819746778451289, testing_loss = 0.00712661211473627\n",
            "Epoch 51: training_loss = 0.006008683104812181, testing_loss = 0.006440465343721129\n",
            "Epoch 61: training_loss = 0.005388400487786659, testing_loss = 0.005932525234846036\n",
            "Epoch 71: training_loss = 0.004869847021921613, testing_loss = 0.005525971797753041\n",
            "Epoch 81: training_loss = 0.0044766401856089445, testing_loss = 0.00521812686596702\n",
            "Epoch 91: training_loss = 0.004114485611974495, testing_loss = 0.00498683152905659\n"
          ],
          "name": "stdout"
        }
      ]
    },
    {
      "cell_type": "code",
      "metadata": {
        "id": "NHQIAa8i0eQT",
        "colab": {
          "base_uri": "https://localhost:8080/",
          "height": 279
        },
        "outputId": "3df039ac-f15b-4a87-b892-cc1d855d7a4a"
      },
      "source": [
        "plt.plot(epoch_list, training_loss_list,color='green',linewidth=2, markersize=12, label='training_loss')\n",
        "plt.plot(epoch_list, testing_loss_list,color='red',linewidth=2, markersize=12, label='testing_loss')\n",
        "plt.xlabel('epochs')\n",
        "plt.ylabel('loss')\n",
        "plt.grid()\n",
        "plt.legend()\n",
        "plt.show()"
      ],
      "execution_count": null,
      "outputs": [
        {
          "output_type": "display_data",
          "data": {
            "image/png": "[encoded data removed]",
            "text/plain": [
              "<Figure size 432x288 with 1 Axes>"
            ]
          },
          "metadata": {
            "tags": [],
            "needs_background": "light"
          }
        }
      ]
    },
    {
      "cell_type": "code",
      "metadata": {
        "id": "7fRRqyBv03fw",
        "colab": {
          "base_uri": "https://localhost:8080/"
        },
        "outputId": "895e62f7-f2eb-4e24-c159-3ec99b8b4d9e"
      },
      "source": [
        "print(\"Confusion matrix:\")\n",
        "print(confusion_matrix(predictions, labels))\n",
        "print(\"Performance analysis:\")\n",
        "print(classification_report(predictions, labels))"
      ],
      "execution_count": null,
      "outputs": [
        {
          "output_type": "stream",
          "text": [
            "Confusion matrix:\n",
            "[[ 968    0    6    0    1    5    9    2    5    7]\n",
            " [   0 1119    2    0    0    1    3    7    1    5]\n",
            " [   1    3 1004    9    7    1    1   13    3    1]\n",
            " [   2    1    3  976    0   12    1    4    5   11]\n",
            " [   0    0    3    0  950    2    3    3    4   20]\n",
            " [   3    1    0    8    0  855    6    1    6    2]\n",
            " [   4    4    3    0    3    8  929    0    6    0]\n",
            " [   1    2    6    8    2    1    0  986    5   10]\n",
            " [   1    5    5    7    3    4    6    2  938    2]\n",
            " [   0    0    0    2   16    3    0   10    1  951]]\n",
            "Performance analysis:\n",
            "              precision    recall  f1-score   support\n",
            "\n",
            "           0       0.99      0.97      0.98      1003\n",
            "           1       0.99      0.98      0.98      1138\n",
            "           2       0.97      0.96      0.97      1043\n",
            "           3       0.97      0.96      0.96      1015\n",
            "           4       0.97      0.96      0.97       985\n",
            "           5       0.96      0.97      0.96       882\n",
            "           6       0.97      0.97      0.97       957\n",
            "           7       0.96      0.97      0.96      1021\n",
            "           8       0.96      0.96      0.96       973\n",
            "           9       0.94      0.97      0.95       983\n",
            "\n",
            "    accuracy                           0.97     10000\n",
            "   macro avg       0.97      0.97      0.97     10000\n",
            "weighted avg       0.97      0.97      0.97     10000\n",
            "\n"
          ],
          "name": "stdout"
        }
      ]
    },
    {
      "cell_type": "code",
      "metadata": {
        "colab": {
          "base_uri": "https://localhost:8080/",
          "height": 319
        },
        "id": "P9roDF1ccnZX",
        "outputId": "debe707b-414a-4a99-c891-f7d9ae6a6145"
      },
      "source": [
        "i = 5401\n",
        "plt.imshow(test_images[:,i].reshape(28,28), cmap=matplotlib.cm.binary)\n",
        "plt.axis(\"on\")\n",
        "plt.show()\n",
        "\n",
        "print(f\"ground truth label: {test_labels[:,i]}\")\n",
        "print(f\"predictions: {predictions[i]}\")\n",
        "print(f\"predicted labels: {labels[i]}\")"
      ],
      "execution_count": null,
      "outputs": [
        {
          "output_type": "display_data",
          "data": {
            "image/png": "[encoded data removed]",
            "text/plain": [
              "<Figure size 432x288 with 1 Axes>"
            ]
          },
          "metadata": {
            "tags": [],
            "needs_background": "light"
          }
        },
        {
          "output_type": "stream",
          "text": [
            "ground truth label: [0. 0. 0. 0. 1. 0. 0. 0. 0. 0.]\n",
            "predictions: 4\n",
            "predicted labels: 4\n"
          ],
          "name": "stdout"
        }
      ]
    }
  ]
}